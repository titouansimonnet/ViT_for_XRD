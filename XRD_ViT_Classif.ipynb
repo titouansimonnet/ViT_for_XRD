{
 "cells": [
  {
   "cell_type": "markdown",
   "id": "95cb3e6d",
   "metadata": {},
   "source": [
    "# ViT for XRD patterns classification  \n",
    "A 6 classes problem, i.e 6 mineral phases: Calcite, Halite, Quartz, Dolomite, Gibbsite and Hematite  \n",
    "Identify the mineral phase from an XRD pattern. "
   ]
  },
  {
   "cell_type": "code",
   "execution_count": 1,
   "id": "c428b28a",
   "metadata": {},
   "outputs": [],
   "source": [
    "from functools import partial\n",
    "from netrc import netrc\n",
    "import torch\n",
    "import torch.nn as nn\n",
    "import torch.nn.functional as F\n",
    "from torch.nn import Sequential, Linear, ReLU, GRU\n",
    "\n",
    "from torch.optim import Adam\n",
    "from torch.nn import CrossEntropyLoss\n",
    "from torch.utils.data import TensorDataset, DataLoader\n",
    "from sklearn.model_selection import train_test_split\n",
    "from sklearn.preprocessing import LabelEncoder\n",
    "import numpy as np\n",
    "import pandas as pd\n",
    "import pickle\n",
    "from torch.utils.data import Dataset, DataLoader\n",
    "from torchsummary import summary\n",
    "import datetime\n",
    "import os\n",
    "import time"
   ]
  },
  {
   "cell_type": "markdown",
   "id": "ee06b6a3",
   "metadata": {},
   "source": [
    "## GPU/CPU"
   ]
  },
  {
   "cell_type": "code",
   "execution_count": 2,
   "id": "112328b9",
   "metadata": {},
   "outputs": [
    {
     "name": "stdout",
     "output_type": "stream",
     "text": [
      "CUDA is not available.\n"
     ]
    }
   ],
   "source": [
    "if torch.cuda.is_available():\n",
    "    print(\"CUDA is available.\")\n",
    "    print(\"PyTorch version:\", torch.__version__)\n",
    "    print(\"CUDA version:\", torch.version.cuda)\n",
    "    print(\"Number of available GPUs:\", torch.cuda.device_count())\n",
    "    print(\"GPU name:\", torch.cuda.get_device_name(0))\n",
    "else:\n",
    "    print(\"CUDA is not available.\")\n",
    "\n",
    "device = torch.device(\"cuda\" if torch.cuda.is_available() else \"cpu\")"
   ]
  },
  {
   "cell_type": "markdown",
   "id": "2164d8c0",
   "metadata": {},
   "source": [
    "## Dataloader"
   ]
  },
  {
   "cell_type": "code",
   "execution_count": 3,
   "id": "ad749cb8",
   "metadata": {},
   "outputs": [],
   "source": [
    "classes = ['Halite','Quartz','Dolomite','Calcite','Gibbsite','Hematite']\n",
    "path = 'Databases/Classification/'\n",
    "class Diffractogramme(Dataset):\n",
    "    def __init__(self, train = True):\n",
    "        \"\"\"\n",
    "            train (boolean) : train(True) or test(False) set\n",
    "        \"\"\"\n",
    "        self.train = train\n",
    "        if self.train:\n",
    "            self.datalist = pd.read_csv(path+'labels_train_6classes.csv', sep=',',header=None,names=['fichier','train','label']) \n",
    "        else :\n",
    "            self.datalist = pd.read_csv(path+'labels_test_6classes.csv', sep=',',header=None,names=['fichier','train','label'])\n",
    "\n",
    "\n",
    "    def __len__(self):\n",
    "        return len(self.datalist)\n",
    "\n",
    "    def __getitem__(self, idx):\n",
    "        file_name = self.datalist['fichier'][idx] #Get file name\n",
    "        file = pd.read_csv(path+file_name,header=None,skiprows=1,names=['Intensity']) # Read file with pandas\n",
    "        diffracto = file['Intensity'] # Signal\n",
    "        label = self.datalist['label'][idx]  #label\n",
    "        l = classes.index(label)\n",
    "        diffracto = torch.tensor(diffracto).float() #Convert\n",
    "        sample = [diffracto,l]\n",
    "        return sample\n",
    "    \n",
    "batch_size = 64\n",
    "train_data = Diffractogramme(train = True)\n",
    "train_loader = DataLoader(train_data, batch_size=batch_size, shuffle=True)\n",
    "test_data = Diffractogramme(train = False)\n",
    "test_loader = DataLoader(test_data, batch_size=batch_size, shuffle=False)"
   ]
  },
  {
   "cell_type": "markdown",
   "id": "222ac770",
   "metadata": {},
   "source": [
    "## ViT block"
   ]
  },
  {
   "cell_type": "code",
   "execution_count": 4,
   "id": "68110257",
   "metadata": {},
   "outputs": [],
   "source": [
    "class EncoderBlock(nn.Module):\n",
    "    def __init__(self,\n",
    "                 dim,\n",
    "                 num_heads,\n",
    "                 mlp_ratio=4.,\n",
    "                 qkv_bias=False,\n",
    "                 qk_scale=None,\n",
    "                 drop_ratio=0.,\n",
    "                 attn_drop_ratio=0.,\n",
    "                 drop_path_ratio=0.,\n",
    "                 act_layer=nn.GELU,\n",
    "                 norm_layer=nn.LayerNorm):\n",
    "        super(EncoderBlock, self).__init__()\n",
    "        self.norm1 = norm_layer(dim)\n",
    "        self.attn = Attention(dim, num_heads=num_heads, qkv_bias=qkv_bias, qk_scale=qk_scale,\n",
    "                              attn_drop_ratio=attn_drop_ratio, proj_drop_ratio=drop_ratio)\n",
    "        self.drop_path = DropPath(\n",
    "            drop_path_ratio) if drop_path_ratio > 0. else nn.Identity()\n",
    "        self.norm2 = norm_layer(dim)\n",
    "        mlp_hidden_dim = int(dim * mlp_ratio)\n",
    "        self.mlp = Mlp(in_features=dim, hidden_features=mlp_hidden_dim,\n",
    "                       act_layer=act_layer, drop=drop_ratio)\n",
    "\n",
    "    def forward(self, x):\n",
    "        x = x + self.drop_path(self.attn(self.norm1(x)))\n",
    "        x = x + self.drop_path(self.mlp(self.norm2(x)))\n",
    "        return x\n",
    "\n",
    "class Attention(nn.Module):\n",
    "\n",
    "    def __init__(self,\n",
    "                 dim,  \n",
    "                 num_heads=2,\n",
    "                 qkv_bias=False,\n",
    "                 qk_scale=None,\n",
    "                 attn_drop_ratio=0.,\n",
    "                 proj_drop_ratio=0.):\n",
    "        super(Attention, self).__init__()\n",
    "        self.num_heads = num_heads\n",
    "        head_dim = dim // num_heads\n",
    "        self.scale = qk_scale or head_dim ** -0.5\n",
    "        self.qkv = nn.Linear(dim, dim * 3, bias=qkv_bias)\n",
    "        self.attn_drop = nn.Dropout(attn_drop_ratio)\n",
    "        self.proj = nn.Linear(dim, dim)\n",
    "        self.proj_drop = nn.Dropout(proj_drop_ratio)\n",
    "\n",
    "    def forward(self, x):\n",
    "        # [batch_size, num_patches + 1, total_embed_dim]\n",
    "        B, N, C = x.shape  \n",
    "        # qkv(): -> [batch_size, num_patches + 1, 3 * total_embed_dim]\n",
    "        # reshape: -> [batch_size, num_patches + 1, 3, num_heads, embed_dim_per_head]\n",
    "        # permute: -> [3, batch_size, num_heads, num_patches + 1, embed_dim_per_head]\n",
    "        qkv = self.qkv(x).reshape(B, N, 3, self.num_heads, C // self.num_heads).permute(2, 0, 3, 1, 4)\n",
    "        # [batch_size, num_heads, num_patches + 1, embed_dim_per_head]\n",
    "        # make torchscript happy (cannot use tensor as tuple)\n",
    "        q, k, v = qkv[0], qkv[1], qkv[2]\n",
    "        # transpose: -> [batch_size, num_heads, embed_dim_per_head, num_patches + 1]\n",
    "        # @: multiply -> [batch_size, num_heads, num_patches + 1, num_patches + 1]\n",
    "        attn = (q @ k.transpose(-2, -1)) * self.scale\n",
    "        attn = attn.softmax(dim=-1)\n",
    "        attn = self.attn_drop(attn)\n",
    "        # @: multiply -> [batch_size, num_heads, num_patches + 1, embed_dim_per_head]\n",
    "        # transpose: -> [batch_size, num_patches + 1, num_heads, embed_dim_per_head]\n",
    "        # reshape: -> [batch_size, num_patches + 1, total_embed_dim]\n",
    "        x = (attn @ v).transpose(1, 2).reshape(B, N, C)\n",
    "        x = self.proj(x)\n",
    "        x = self.proj_drop(x)\n",
    "        return x\n",
    "\n",
    "class Mlp(nn.Module):\n",
    "\n",
    "    def __init__(self, in_features, hidden_features=None, out_features=None, act_layer=nn.GELU, drop=0.):\n",
    "        super().__init__()\n",
    "        out_features = out_features or in_features\n",
    "        hidden_features = hidden_features or in_features\n",
    "        self.fc1 = nn.Linear(in_features, hidden_features)\n",
    "        self.act = act_layer()\n",
    "        self.fc2 = nn.Linear(hidden_features, out_features)\n",
    "        self.drop = nn.Dropout(drop)\n",
    "\n",
    "    def forward(self, x):\n",
    "        x = self.fc1(x)\n",
    "        x = self.act(x)\n",
    "        x = self.drop(x)\n",
    "        x = self.fc2(x)\n",
    "        x = self.drop(x)\n",
    "        return x\n",
    "    \n",
    "\n",
    "def Spectra_Embedding(x, spec_length, embed_dim):\n",
    "    batch_size = x.shape[0]\n",
    "    new_spec_length = (spec_length // embed_dim) * embed_dim\n",
    "    x = x[:, :new_spec_length]\n",
    "    x = torch.reshape(x, (batch_size, spec_length // embed_dim, embed_dim))\n",
    "    return x\n",
    "\n",
    "class VIT(nn.Module):\n",
    "    def __init__(self, spec_length=2000, num_output=1,\n",
    "                 embed_dim=40, depth=12, num_heads=2, mlp_ratio=4.0, qkv_bias=True,\n",
    "                 qk_scale=None, drop_ratio=0.,\n",
    "                 attn_drop_ratio=0., drop_path_ratio=0., norm_layer=None,\n",
    "                 act_layer=None):\n",
    "        \n",
    "        # MSTransformer\n",
    "        super(VIT, self).__init__()\n",
    "        self.num_classes = num_output\n",
    "        self.spec_length = spec_length\n",
    "        self.num_features = self.embed_dim = embed_dim\n",
    "        norm_layer = norm_layer or partial(nn.LayerNorm, eps=1e-6)\n",
    "        act_layer = act_layer or nn.GELU\n",
    "        self.cls_token = nn.Parameter(torch.zeros(1, 1, embed_dim))\n",
    "        self.pos_embed = nn.Parameter(torch.zeros(1, (spec_length//embed_dim) + 1, embed_dim))\n",
    "        self.pos_drop = nn.Dropout(p=drop_ratio)\n",
    "        dpr = [x.item() for x in torch.linspace(0, drop_path_ratio, depth)]\n",
    "        self.blocks = nn.Sequential(*[\n",
    "            EncoderBlock(dim=embed_dim, num_heads=num_heads, mlp_ratio=mlp_ratio, qkv_bias=qkv_bias, qk_scale=qk_scale,\n",
    "                        drop_ratio=drop_ratio, attn_drop_ratio=attn_drop_ratio, drop_path_ratio=dpr[i],\n",
    "                        norm_layer=norm_layer, act_layer=act_layer)\n",
    "            for i in range(depth)\n",
    "        ])\n",
    "        self.norm = norm_layer(embed_dim)\n",
    "        \n",
    "        nn.init.trunc_normal_(self.pos_embed, std=0.02)\n",
    "        nn.init.trunc_normal_(self.cls_token, std=0.02)\n",
    "        self.apply(_init_vit_weights)\n",
    "\n",
    "        self.head = nn.Linear(embed_dim, num_output)\n",
    "\n",
    "    def forward(self, x):\n",
    "        # [B , xrd_length] --> [B , xrd_length/embed_dim , embed_dim]\n",
    "        x = Spectra_Embedding(x, self.spec_length, self.embed_dim)\n",
    "        cls_token = self.cls_token.expand(x.shape[0], -1, -1)\n",
    "        x = torch.cat((cls_token, x), dim=1)\n",
    "        x = self.pos_drop(x + self.pos_embed)\n",
    "        x = self.blocks(x)\n",
    "        x = self.norm(x)\n",
    "        x = self.head(x)\n",
    "\n",
    "        return x[:, 0]\n",
    "    \n",
    "def _init_vit_weights(m):\n",
    "    if isinstance(m, nn.Linear):\n",
    "        nn.init.trunc_normal_(m.weight, std=.01)\n",
    "        if m.bias is not None:\n",
    "            nn.init.zeros_(m.bias)\n",
    "    elif isinstance(m, nn.LayerNorm):\n",
    "        nn.init.zeros_(m.bias)\n",
    "        nn.init.ones_(m.weight)\n",
    "\n",
    "def VIT_model(spec_length=2905,num_output: int = 1):\n",
    "    model = VIT(spec_length=spec_length,\n",
    "                              embed_dim=80,\n",
    "                              depth=12,\n",
    "                              num_heads=2,\n",
    "                              num_output=num_output)\n",
    "    return model"
   ]
  },
  {
   "cell_type": "markdown",
   "id": "629bcedc",
   "metadata": {},
   "source": [
    "## Train the model"
   ]
  },
  {
   "cell_type": "code",
   "execution_count": null,
   "id": "bdfbc851",
   "metadata": {
    "scrolled": false
   },
   "outputs": [],
   "source": [
    "\"\"\"\n",
    "num_classes=6\n",
    "model = VIT_model(spec_length=2905,num_output=num_classes)\n",
    "model = model.to(device)\n",
    "optimizer = Adam(model.parameters())\n",
    "loss_func = CrossEntropyLoss()\n",
    "\n",
    "import matplotlib.pyplot as plt\n",
    "\n",
    "num_epochs = 100\n",
    "losses = []\n",
    "early_stop_loss = 0.98 \n",
    "no_improve_epoch = 0 \n",
    "patience = 3 \n",
    "epoch_times = []\n",
    "total_time=0\n",
    "for epoch in range(num_epochs):\n",
    "    start_time = time.time()  \n",
    "    model.train()\n",
    "    running_loss = 0.0\n",
    "    for i, (x_batch, y_batch) in enumerate(train_loader):\n",
    "        x_batch = x_batch.to(device)\n",
    "        y_batch = y_batch.to(device)\n",
    "        \n",
    "        optimizer.zero_grad()\n",
    "        outputs = model(x_batch)\n",
    "        loss = loss_func(outputs, y_batch)\n",
    "        loss.backward()\n",
    "        optimizer.step()\n",
    "        running_loss += loss.item()\n",
    "    end_time = time.time()  \n",
    "    epoch_duration = end_time - start_time  \n",
    "    epoch_times.append(epoch_duration)\n",
    "    total_time+=epoch_duration\n",
    "        \n",
    "        \n",
    "        \n",
    "\n",
    "    epoch_loss = running_loss / len(train_loader)\n",
    "    print(f'Epoch: {epoch+1}, Loss: {epoch_loss}, Time: {epoch_duration:.2f}s,Total time:{total_time}')\n",
    "    \n",
    "    losses.append(epoch_loss)\n",
    "\n",
    "current_time = datetime.datetime.now().strftime(\"%Y-%m-%d_%H-%M-%S\")\n",
    "\"\"\""
   ]
  },
  {
   "cell_type": "markdown",
   "id": "3171e55c",
   "metadata": {},
   "source": [
    "## Confusion Matrix"
   ]
  },
  {
   "cell_type": "code",
   "execution_count": 6,
   "id": "8038c7be",
   "metadata": {},
   "outputs": [],
   "source": [
    "from sklearn.metrics import confusion_matrix, ConfusionMatrixDisplay\n",
    "from sklearn.metrics import classification_report\n",
    "from sklearn.metrics import f1_score\n",
    "from sklearn.metrics import recall_score\n",
    "import matplotlib.pyplot as plt"
   ]
  },
  {
   "cell_type": "code",
   "execution_count": 7,
   "id": "cfaff8eb",
   "metadata": {},
   "outputs": [
    {
     "name": "stdout",
     "output_type": "stream",
     "text": [
      "Accuracy of the network on the 600 test images: 99 %\n"
     ]
    }
   ],
   "source": [
    "num_classes=6\n",
    "model = VIT_model(spec_length=2905,num_output=num_classes)\n",
    "model.load_state_dict(torch.load('Trained_model/Classif'))\n",
    "model.eval()\n",
    "\n",
    "correct = 0\n",
    "total = 0\n",
    "with torch.no_grad():\n",
    "    for data in test_loader:\n",
    "        images, labels = data\n",
    "        outputs = model(images)\n",
    "        #outputs = torch.exp(outputs)/torch.sum(torch.exp(outputs))\n",
    "        _, predicted = torch.max(outputs.data, 1)\n",
    "        #print(predicted,labels)\n",
    "        total += labels.size(0)\n",
    "        correct += (predicted == labels).sum().item()\n",
    "\n",
    "print('Accuracy of the network on the 600 test images: %d %%' % (\n",
    "    100 * correct / total))"
   ]
  },
  {
   "cell_type": "code",
   "execution_count": 8,
   "id": "986568b7",
   "metadata": {},
   "outputs": [],
   "source": [
    "labels = np.zeros(len(test_data))\n",
    "prediction = np.zeros(len(test_data))\n",
    "for i in range(len(test_data)):\n",
    "    x,l = test_data[i]\n",
    "    x = torch.unsqueeze(x,0)\n",
    "    y = model(x)\n",
    "    prediction[i] = torch.argmax(y, 1)\n",
    "    labels[i] = l \n",
    "cm = confusion_matrix(y_true = labels,y_pred=prediction)"
   ]
  },
  {
   "cell_type": "code",
   "execution_count": 9,
   "id": "9e221883",
   "metadata": {},
   "outputs": [
    {
     "data": {
      "text/plain": [
       "<Figure size 720x1080 with 0 Axes>"
      ]
     },
     "metadata": {},
     "output_type": "display_data"
    },
    {
     "data": {
      "image/png": "[encoded data removed]",
      "text/plain": [
       "<Figure size 432x288 with 2 Axes>"
      ]
     },
     "metadata": {
      "needs_background": "light"
     },
     "output_type": "display_data"
    }
   ],
   "source": [
    "plt.figure(figsize = (10,15))\n",
    "disp = ConfusionMatrixDisplay(confusion_matrix=cm,display_labels=classes)\n",
    "disp.plot()\n",
    "disp.ax_.set_xticklabels(classes, fontsize = 15)\n",
    "disp.ax_.set_yticklabels(classes, fontsize = 15)\n",
    "plt.xlabel('Prediction', fontsize = 20)\n",
    "plt.ylabel('Real', fontsize = 20)\n",
    "plt.xticks(rotation=90)\n",
    "plt.show()"
   ]
  },
  {
   "cell_type": "code",
   "execution_count": null,
   "id": "f7a6de87",
   "metadata": {},
   "outputs": [],
   "source": []
  }
 ],
 "metadata": {
  "kernelspec": {
   "display_name": "Python 3 (ipykernel)",
   "language": "python",
   "name": "python3"
  },
  "language_info": {
   "codemirror_mode": {
    "name": "ipython",
    "version": 3
   },
   "file_extension": ".py",
   "mimetype": "text/x-python",
   "name": "python",
   "nbconvert_exporter": "python",
   "pygments_lexer": "ipython3",
   "version": "3.9.7"
  }
 },
 "nbformat": 4,
 "nbformat_minor": 5
}
